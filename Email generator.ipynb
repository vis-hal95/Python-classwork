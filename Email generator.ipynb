{
 "cells": [
  {
   "cell_type": "code",
   "execution_count": 1,
   "id": "ddf1593b",
   "metadata": {},
   "outputs": [],
   "source": [
    "#waf that generates list of email address using list of sapid\n",
    "#generate email address using sapid\n",
    "#sapid\n",
    "#1234567\n",
    "#email\n",
    "#1234567@stu.upes.ac.in\n",
    "# 1 . function/for loop\n",
    "# 2. map/filter and lambda\n",
    "#  3 . list comprehension"
   ]
  },
  {
   "cell_type": "code",
   "execution_count": 2,
   "id": "3a141b64",
   "metadata": {},
   "outputs": [
    {
     "data": {
      "text/plain": [
       "['123@stu.upes.ac.in', '2345@stu.upes.ac.in', '2546@stu.upes.ac.in']"
      ]
     },
     "execution_count": 2,
     "metadata": {},
     "output_type": "execute_result"
    }
   ],
   "source": [
    "# 1st logic\n",
    "sapids=[123,2345,2546]\n",
    "\n",
    "def id2email(id):\n",
    "    return str(id) + \"@stu.upes.ac.in\"\n",
    "\n",
    "def sapids_to_emails(sapids):\n",
    "    emails = []\n",
    "    for id in sapids:\n",
    "        email = id2email(id)\n",
    "        emails.append(email)\n",
    "\n",
    "    return emails\n",
    "\n",
    "list_of_emails = sapids_to_emails(sapids)\n",
    "list_of_emails"
   ]
  },
  {
   "cell_type": "code",
   "execution_count": 3,
   "id": "e4fba703",
   "metadata": {},
   "outputs": [
    {
     "data": {
      "text/plain": [
       "<map at 0x58dd430>"
      ]
     },
     "execution_count": 3,
     "metadata": {},
     "output_type": "execute_result"
    }
   ],
   "source": [
    "#2nd logic using map and function  \n",
    "\n",
    "sapidss = [123,1234,12345,123456]\n",
    "\n",
    "def id2email(id):\n",
    "    return str(id) + \"@stu.upes.ac.in\"\n",
    "\n",
    "list_of_emailsss = map(id2email , sapidss)\n",
    "\n",
    "list_of_emailsss"
   ]
  },
  {
   "cell_type": "code",
   "execution_count": 4,
   "id": "4768fd94",
   "metadata": {},
   "outputs": [
    {
     "data": {
      "text/plain": [
       "['123@stu.upes.ac.in',\n",
       " '1234@stu.upes.ac.in',\n",
       " '12345@stu.upes.ac.in',\n",
       " '123456@stu.upes.ac.in']"
      ]
     },
     "execution_count": 4,
     "metadata": {},
     "output_type": "execute_result"
    }
   ],
   "source": [
    "#3nd logic using lambda\n",
    "\n",
    "sapidss = [123,1234,12345,123456]\n",
    "\n",
    "# def id2email(id):\n",
    "#     return str(id) + \"@stu.upes.ac.in\"\n",
    "\n",
    "list_of_emailsss = list(map(lambda id :str(id) + \"@stu.upes.ac.in\" , sapidss))\n",
    "\n",
    "list_of_emailsss"
   ]
  },
  {
   "cell_type": "code",
   "execution_count": 5,
   "id": "241affa2",
   "metadata": {},
   "outputs": [
    {
     "data": {
      "text/plain": [
       "[' 123 @stu.upes.ac.in',\n",
       " ' 1234 @stu.upes.ac.in',\n",
       " ' 12345 @stu.upes.ac.in',\n",
       " ' 123456 @stu.upes.ac.in']"
      ]
     },
     "execution_count": 5,
     "metadata": {},
     "output_type": "execute_result"
    }
   ],
   "source": [
    "\n",
    "#4nd logic using list comprehnsion\n",
    "\n",
    "sapidss = [123,1234,12345,123456]\n",
    "\n",
    "list_of_emails = [ f\" { id} @stu.upes.ac.in\" for id in sapidss ]\n",
    "list_of_emails"
   ]
  }
 ],
 "metadata": {
  "kernelspec": {
   "display_name": "Python 3",
   "language": "python",
   "name": "python3"
  },
  "language_info": {
   "codemirror_mode": {
    "name": "ipython",
    "version": 3
   },
   "file_extension": ".py",
   "mimetype": "text/x-python",
   "name": "python",
   "nbconvert_exporter": "python",
   "pygments_lexer": "ipython3",
   "version": "3.8.8"
  }
 },
 "nbformat": 4,
 "nbformat_minor": 5
}
