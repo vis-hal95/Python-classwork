{
 "cells": [
  {
   "cell_type": "code",
   "execution_count": 2,
   "id": "0083548e",
   "metadata": {},
   "outputs": [
    {
     "name": "stdout",
     "output_type": "stream",
     "text": [
      "['Hello , this is a test \\n', ' NEW LINE ']\n"
     ]
    }
   ],
   "source": [
    "#create file handle\n",
    "file = open(\"example.txt\", \"w\")\n",
    "#write data  in file\n",
    "file.write(\"Hello , this is a test \")\n",
    "#save and close file\n",
    "file.close()\n",
    "\n",
    "#add new line in the existing file\n",
    "file = open(\"example.txt\", \"a\")\n",
    "file.write(\"\\n new line \" .upper())\n",
    "file.close()\n",
    "\n",
    "#for reading the data \n",
    "filename = \"example.txt\"\n",
    "file = open(filename, \"r\")\n",
    "\n",
    "fileContent = file.readlines()\n",
    "file.close()\n",
    "\n",
    "print(fileContent)"
   ]
  }
 ],
 "metadata": {
  "kernelspec": {
   "display_name": "Python 3",
   "language": "python",
   "name": "python3"
  },
  "language_info": {
   "codemirror_mode": {
    "name": "ipython",
    "version": 3
   },
   "file_extension": ".py",
   "mimetype": "text/x-python",
   "name": "python",
   "nbconvert_exporter": "python",
   "pygments_lexer": "ipython3",
   "version": "3.8.8"
  }
 },
 "nbformat": 4,
 "nbformat_minor": 5
}
