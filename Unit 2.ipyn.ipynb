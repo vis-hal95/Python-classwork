{
 "cells": [
  {
   "cell_type": "code",
   "execution_count": 1,
   "id": "9cd907f8",
   "metadata": {},
   "outputs": [
    {
     "name": "stdout",
     "output_type": "stream",
     "text": [
      "30\n",
      "20\n",
      "10\n"
     ]
    }
   ],
   "source": [
    "# main file \n",
    "\n",
    "x = 10 #global variable \n",
    "def outer_function():\n",
    "    x = 20 #enclosing variable \n",
    "    def inner_function():\n",
    "        x = 30   #Local variable \n",
    "        print(x)  #Output : 30\n",
    "    inner_function()\n",
    "    print(x)  # output : 20\n",
    "\n",
    "outer_function()\n",
    "print(x)  #Output : 1"
   ]
  },
  {
   "cell_type": "code",
   "execution_count": 2,
   "id": "97198241",
   "metadata": {},
   "outputs": [],
   "source": [
    "counter = 0\n",
    "\n",
    "def increment():\n",
    "    global counter\n",
    "    counter+=1"
   ]
  },
  {
   "cell_type": "code",
   "execution_count": 3,
   "id": "75638647",
   "metadata": {},
   "outputs": [
    {
     "name": "stdout",
     "output_type": "stream",
     "text": [
      "1\n"
     ]
    }
   ],
   "source": [
    "increment()\n",
    "print(counter)"
   ]
  },
  {
   "cell_type": "code",
   "execution_count": 4,
   "id": "b2a9c68b",
   "metadata": {},
   "outputs": [],
   "source": [
    "def modify_immutable(x):\n",
    "    x+= 1\n",
    "    print(f\"Inside function : {x}\") "
   ]
  },
  {
   "cell_type": "code",
   "execution_count": 5,
   "id": "26a459e4",
   "metadata": {},
   "outputs": [
    {
     "name": "stdout",
     "output_type": "stream",
     "text": [
      "Inside function : 6\n",
      "Outside function : 5\n"
     ]
    }
   ],
   "source": [
    "\n",
    "a = 5\n",
    "modify_immutable(a)\n",
    "print(f\"Outside function : {a}\")"
   ]
  },
  {
   "cell_type": "code",
   "execution_count": 6,
   "id": "7d14c7f7",
   "metadata": {},
   "outputs": [],
   "source": [
    "def modify_mutable(lst):\n",
    "    lst.append(4)\n",
    "    print(f\"Inside function : {lst}\")"
   ]
  },
  {
   "cell_type": "code",
   "execution_count": 7,
   "id": "348bc56c",
   "metadata": {},
   "outputs": [
    {
     "name": "stdout",
     "output_type": "stream",
     "text": [
      "Inside function : [1, 2, 3, 4]\n",
      "Outside function : [1, 2, 3, 4]\n"
     ]
    }
   ],
   "source": [
    "my_list = [1,2,3]\n",
    "modify_mutable(my_list)\n",
    "print(f\"Outside function : {my_list}\")"
   ]
  },
  {
   "cell_type": "code",
   "execution_count": 8,
   "id": "09ea7b64",
   "metadata": {},
   "outputs": [
    {
     "name": "stdout",
     "output_type": "stream",
     "text": [
      "25\n"
     ]
    }
   ],
   "source": [
    "def square(x):\n",
    "    return x * x \n",
    "\n",
    "f = square\n",
    "print(f(5))\n",
    "\n",
    "def apply_function(func , value):\n",
    "    return func(value)"
   ]
  },
  {
   "cell_type": "code",
   "execution_count": 9,
   "id": "9b2f98cd",
   "metadata": {},
   "outputs": [
    {
     "name": "stdout",
     "output_type": "stream",
     "text": [
      "16\n"
     ]
    }
   ],
   "source": [
    "\n",
    "result = apply_function(square , 4)\n",
    "print(result)"
   ]
  },
  {
   "cell_type": "code",
   "execution_count": 10,
   "id": "831f8fe5",
   "metadata": {},
   "outputs": [],
   "source": [
    "def double(x):\n",
    "    return x*2\n",
    "def triple(x):\n",
    "    return x*3\n",
    "def apply_operation(func , number):\n",
    "    return func(number)"
   ]
  },
  {
   "cell_type": "code",
   "execution_count": 11,
   "id": "026cce0e",
   "metadata": {},
   "outputs": [
    {
     "name": "stdout",
     "output_type": "stream",
     "text": [
      "10\n",
      "12\n"
     ]
    }
   ],
   "source": [
    "print(apply_operation(double , 5))\n",
    "print(apply_operation(triple , 4))"
   ]
  },
  {
   "cell_type": "code",
   "execution_count": 12,
   "id": "2f171d26",
   "metadata": {},
   "outputs": [
    {
     "name": "stdout",
     "output_type": "stream",
     "text": [
      "8\n"
     ]
    }
   ],
   "source": [
    "#Lamda Function\n",
    "\n",
    "add= lambda a, b : a+ b\n",
    "print(add(3,5))"
   ]
  },
  {
   "cell_type": "code",
   "execution_count": 13,
   "id": "11fbcbac",
   "metadata": {},
   "outputs": [
    {
     "name": "stdout",
     "output_type": "stream",
     "text": [
      "24\n",
      "42\n"
     ]
    }
   ],
   "source": [
    "def jod(a,b,c): #define a function mod\n",
    "    return a*b*c\n",
    "\n",
    "mod = lambda a,b,c : a*b*c   # define lambda \n",
    "print(mod(2,3,4))\n",
    "\n",
    "print(jod(2,3,7))  #calling function jod and print"
   ]
  },
  {
   "cell_type": "code",
   "execution_count": 14,
   "id": "a1f4270d",
   "metadata": {},
   "outputs": [
    {
     "name": "stdout",
     "output_type": "stream",
     "text": [
      "[1, 4, 9, 16, 25]\n"
     ]
    }
   ],
   "source": [
    "\n",
    "numbers = [1,2,3,4,5]\n",
    "squared = map(lambda x: x*x , numbers)\n",
    "print(list(squared))"
   ]
  },
  {
   "cell_type": "code",
   "execution_count": 15,
   "id": "69a9d495",
   "metadata": {},
   "outputs": [
    {
     "name": "stdout",
     "output_type": "stream",
     "text": [
      "[2, 4]\n"
     ]
    }
   ],
   "source": [
    "even_numbers = filter(lambda x: x %2==0 , numbers)\n",
    "print(list(even_numbers))"
   ]
  },
  {
   "cell_type": "code",
   "execution_count": 16,
   "id": "95fe45bb",
   "metadata": {},
   "outputs": [],
   "source": [
    "\n",
    "squares = []\n",
    "for i in range (10):\n",
    "    if i %2 == 0:\n",
    "        squares.append(i ** 2)"
   ]
  },
  {
   "cell_type": "code",
   "execution_count": 17,
   "id": "c2304d69",
   "metadata": {},
   "outputs": [
    {
     "name": "stdout",
     "output_type": "stream",
     "text": [
      "[0, 4, 16, 36, 64]\n"
     ]
    }
   ],
   "source": [
    "print(squares)"
   ]
  },
  {
   "cell_type": "code",
   "execution_count": 18,
   "id": "7ea3a4b2",
   "metadata": {},
   "outputs": [],
   "source": [
    "squares = [i ** 2 for i in range(10) if i% 2 == 0]"
   ]
  },
  {
   "cell_type": "code",
   "execution_count": 19,
   "id": "3860d4d6",
   "metadata": {},
   "outputs": [
    {
     "name": "stdout",
     "output_type": "stream",
     "text": [
      "[0, 4, 16, 36, 64]\n"
     ]
    }
   ],
   "source": [
    "\n",
    "print(squares)"
   ]
  }
 ],
 "metadata": {
  "kernelspec": {
   "display_name": "Python 3",
   "language": "python",
   "name": "python3"
  },
  "language_info": {
   "codemirror_mode": {
    "name": "ipython",
    "version": 3
   },
   "file_extension": ".py",
   "mimetype": "text/x-python",
   "name": "python",
   "nbconvert_exporter": "python",
   "pygments_lexer": "ipython3",
   "version": "3.8.8"
  }
 },
 "nbformat": 4,
 "nbformat_minor": 5
}
