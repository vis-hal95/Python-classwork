{
 "cells": [
  {
   "cell_type": "code",
   "execution_count": 3,
   "id": "2c30d137",
   "metadata": {},
   "outputs": [],
   "source": [
    "# id type\n",
    "a=1"
   ]
  },
  {
   "cell_type": "code",
   "execution_count": 4,
   "id": "ac20dd16",
   "metadata": {},
   "outputs": [
    {
     "name": "stdout",
     "output_type": "stream",
     "text": [
      "1\n",
      "1855284384\n",
      "<class 'int'>\n"
     ]
    }
   ],
   "source": [
    "print (a)\n",
    "print(id(a))\n",
    "print(type(a))"
   ]
  },
  {
   "cell_type": "code",
   "execution_count": 5,
   "id": "84aa4af9",
   "metadata": {},
   "outputs": [],
   "source": [
    "list1 = [1,2,3]"
   ]
  },
  {
   "cell_type": "code",
   "execution_count": 6,
   "id": "7ed62a34",
   "metadata": {},
   "outputs": [
    {
     "name": "stdout",
     "output_type": "stream",
     "text": [
      "[1, 2, 3]\n"
     ]
    }
   ],
   "source": [
    "print(list1)"
   ]
  },
  {
   "cell_type": "code",
   "execution_count": 8,
   "id": "dc6a0089",
   "metadata": {},
   "outputs": [
    {
     "name": "stdout",
     "output_type": "stream",
     "text": [
      "<class 'list'>\n",
      "93079944\n"
     ]
    }
   ],
   "source": [
    "print(type(list1))\n",
    "print(id(list1))"
   ]
  },
  {
   "cell_type": "code",
   "execution_count": 10,
   "id": "1967f77c",
   "metadata": {},
   "outputs": [
    {
     "name": "stdout",
     "output_type": "stream",
     "text": [
      "[1, 2, 3, 6, 6]\n",
      "<class 'list'>\n",
      "93079944\n"
     ]
    }
   ],
   "source": [
    "list1.append(6)\n",
    "print(list1)\n",
    "print(type(list1))\n",
    "print(id(list1))"
   ]
  },
  {
   "cell_type": "code",
   "execution_count": null,
   "id": "aaf760a2",
   "metadata": {},
   "outputs": [],
   "source": []
  },
  {
   "cell_type": "code",
   "execution_count": 11,
   "id": "6968cd3e",
   "metadata": {},
   "outputs": [
    {
     "name": "stdout",
     "output_type": "stream",
     "text": [
      "a is larger than b\n",
      "10\n",
      "2\n",
      "1855284528\n"
     ]
    }
   ],
   "source": [
    "a = 10\n",
    "b=2\n",
    "# print larger number of a and b\n",
    "if a>b:\n",
    "    print(\"a is larger than b\")\n",
    "    # this condition fails\n",
    "    print(a)\n",
    "    print(b)\n",
    "    \n",
    "else:\n",
    "    print(\"a is smaller than b\")\n",
    "    \n",
    "print(id(a))"
   ]
  },
  {
   "cell_type": "code",
   "execution_count": 15,
   "id": "384b3f96",
   "metadata": {},
   "outputs": [
    {
     "name": "stdout",
     "output_type": "stream",
     "text": [
      "this is main string\n"
     ]
    }
   ],
   "source": [
    "# strings\n",
    "\n",
    "str1 = \"this is main string\"\n",
    "str2 = 'This is second string'\n",
    "print(str1)"
   ]
  },
  {
   "cell_type": "code",
   "execution_count": 4,
   "id": "d6ad1a12",
   "metadata": {},
   "outputs": [
    {
     "data": {
      "text/plain": [
       "'2.6'"
      ]
     },
     "execution_count": 4,
     "metadata": {},
     "output_type": "execute_result"
    }
   ],
   "source": [
    "a =1\n",
    "b= 1.6\n",
    "c=str(a+b)\n",
    "c"
   ]
  },
  {
   "cell_type": "code",
   "execution_count": null,
   "id": "ee09d4fd",
   "metadata": {},
   "outputs": [],
   "source": [
    "if a<b and c<d:\n",
    "    print(\"a<b and c<d\")"
   ]
  },
  {
   "cell_type": "code",
   "execution_count": null,
   "id": "1ff0b69c",
   "metadata": {},
   "outputs": [],
   "source": [
    "shifthead a = a>> 2\n",
    "print(bin(shifteda))"
   ]
  },
  {
   "cell_type": "code",
   "execution_count": null,
   "id": "abb9198a",
   "metadata": {},
   "outputs": [],
   "source": [
    "shifteda"
   ]
  },
  {
   "cell_type": "code",
   "execution_count": null,
   "id": "7a4e9f84",
   "metadata": {},
   "outputs": [],
   "source": [
    "a = 10\n",
    "b = 1\n",
    "while b<a:\n",
    "    b = b+1\n",
    "    print(b)"
   ]
  },
  {
   "cell_type": "code",
   "execution_count": 1,
   "id": "6f8f32ef",
   "metadata": {},
   "outputs": [
    {
     "name": "stdout",
     "output_type": "stream",
     "text": [
      "1\n",
      "3\n",
      "5\n",
      "7\n",
      "9\n"
     ]
    }
   ],
   "source": [
    "list2 = [1,3,5,7,9]\n",
    "\n",
    "for v in list2:\n",
    "    print(v)"
   ]
  },
  {
   "cell_type": "code",
   "execution_count": 1,
   "id": "230233de",
   "metadata": {},
   "outputs": [
    {
     "name": "stdout",
     "output_type": "stream",
     "text": [
      "H\n",
      "e\n",
      "l\n",
      "l\n",
      "o\n",
      " \n",
      "S\n",
      "a\n",
      "k\n",
      "s\n",
      "h\n",
      "i\n"
     ]
    }
   ],
   "source": [
    "str2 = \"Hello Sakshi\"\n",
    "\n",
    "for i in range(0,len(str2)):\n",
    "    print (str2[i])"
   ]
  },
  {
   "cell_type": "code",
   "execution_count": null,
   "id": "99af5602",
   "metadata": {},
   "outputs": [],
   "source": [
    "# PI = 22/7\n",
    "\n",
    "# from testfile import *\n",
    "# from testfile2 import *\n",
    "# import testfile as tf1\n",
    "\n",
    "import modules as m1\n",
    "\n",
    "\n",
    "m1.PI #, tf2.PI"
   ]
  },
  {
   "cell_type": "code",
   "execution_count": 2,
   "id": "eaac0481",
   "metadata": {},
   "outputs": [
    {
     "ename": "SyntaxError",
     "evalue": "unexpected EOF while parsing (<ipython-input-2-f0cff0e9ae72>, line 13)",
     "output_type": "error",
     "traceback": [
      "\u001b[1;36m  File \u001b[1;32m\"<ipython-input-2-f0cff0e9ae72>\"\u001b[1;36m, line \u001b[1;32m13\u001b[0m\n\u001b[1;33m    print(f\"result is {result})\"\u001b[0m\n\u001b[1;37m                                ^\u001b[0m\n\u001b[1;31mSyntaxError\u001b[0m\u001b[1;31m:\u001b[0m unexpected EOF while parsing\n"
     ]
    }
   ],
   "source": [
    "# initializing\n",
    "var1 =1\n",
    "var2 =2\n",
    "\n",
    "#defining function\n",
    "def myadd(a,b):\n",
    "    res = a+b\n",
    "    return res\n",
    "\n",
    "#using function\n",
    "result = myadd(var1,var2)\n",
    "\n",
    "print(f\"result is {result})\""
   ]
  },
  {
   "cell_type": "code",
   "execution_count": 6,
   "id": "c77d2d5b",
   "metadata": {
    "scrolled": true
   },
   "outputs": [
    {
     "ename": "IndentationError",
     "evalue": "unexpected indent (<ipython-input-6-9dc9631427b3>, line 2)",
     "output_type": "error",
     "traceback": [
      "\u001b[1;36m  File \u001b[1;32m\"<ipython-input-6-9dc9631427b3>\"\u001b[1;36m, line \u001b[1;32m2\u001b[0m\n\u001b[1;33m    def outer_function():\u001b[0m\n\u001b[1;37m    ^\u001b[0m\n\u001b[1;31mIndentationError\u001b[0m\u001b[1;31m:\u001b[0m unexpected indent\n"
     ]
    }
   ],
   "source": [
    "x = 10  # Global function\n",
    " def outer_function():\n",
    "        x = 20 #Enclosing variable\n",
    "        def inner_function():\n",
    "            x = 30 # Local variable\n",
    "            print(x) #  output:30\n",
    "        inner_function()\n",
    "        print(x)  # output: 20\n",
    "        \n"
   ]
  },
  {
   "cell_type": "code",
   "execution_count": 7,
   "id": "11c0b86f",
   "metadata": {},
   "outputs": [
    {
     "name": "stdout",
     "output_type": "stream",
     "text": [
      "Result using regular function: 750\n",
      "Result using lambda function: 750\n"
     ]
    }
   ],
   "source": [
    "#Write a function to multiply 3 numbers and return it's result without and with lambdas \n",
    "\n",
    "# function to multiply three numbers\n",
    "def multiply_numbers(num1, num2, num3):\n",
    "    return num1 * num2 * num3\n",
    "#Lambda function to multiply three numbers\n",
    "multiply_with_lambda = lambda x,y,z: x* y* z\n",
    "\n",
    "#Example usage\n",
    "result1 = multiply_numbers(5,10,15)\n",
    "result2 = multiply_with_lambda(5,10,15)\n",
    "\n",
    "print(\"Result using regular function:\", result1)\n",
    "print(\"Result using lambda function:\", result2)"
   ]
  },
  {
   "cell_type": "code",
   "execution_count": null,
   "id": "25aa2d98",
   "metadata": {},
   "outputs": [],
   "source": [
    "#Write a function that takes dir address from user and organize files on that folder in to following categories as given below\n",
    "\n",
    "|Folder | Extension|\n",
    "|----|---|\n",
    "|Videos|mpg,mkv|\n",
    "|Images|jpg,mkv|\n",
    "|Audio| mp3,oog|\n",
    "|Docs| docx.txt.pdf|\n",
    "|Mics| others|\n",
    "\n",
    "---python\n",
    "import os\n",
    "\n",
    "#to create directory\n",
    "dirName = \"Images\"\n",
    "make_dir_cmd = f\"md(dirName)\n",
    "os.system(make.dir_cmd)\n",
    "\n",
    "os.mkdir(\"dirName\")\n",
    "\n",
    "#to move file\n",
    "\n",
    "relative_source_file_path = \".\\demo.txt\"\n",
    "dirName = \"Images\"\n",
    "relative_destination_file_path = f\".\\{dirName}\\demo.txt\"\n",
    "cmd_to_move_file = f\"move{relative_source_file_path} {relative_destination_file_path}\""
   ]
  },
  {
   "cell_type": "code",
   "execution_count": 2,
   "id": "5f1c3d5b",
   "metadata": {},
   "outputs": [
    {
     "name": "stdout",
     "output_type": "stream",
     "text": [
      "Enter the directory path: Images\n",
      "Files organized successfully!\n"
     ]
    }
   ],
   "source": [
    "import os\n",
    "import shutil\n",
    "import pathlib\n",
    "\n",
    "def organize_files(directory):\n",
    "    # Define file extensions for each category\n",
    "    doc_extensions = ['.doc', '.docx', '.pdf', '.txt']\n",
    "    image_extensions = ['.jpg', '.png', '.gif', '.bmp']\n",
    "    video_extensions = ['.mp4', '.avi', '.mov', '.mkv']\n",
    "    music_extensions = ['.mp3', '.wav', '.flac', '.ogg']\n",
    "    archive_extensions = ['.zip', '.rar', '.tar', '.gz']\n",
    "    executable_extensions = ['.exe', '.msi', '.dmg', '.apk']\n",
    "\n",
    "    # Create directories for each category\n",
    "    for category in ['Documents', 'Images', 'Videos', 'Music', 'Archives', 'Executables']:\n",
    "        if not os.path.exists(os.path.join(directory, category)):\n",
    "            os.makedirs(os.path.join(directory, category))\n",
    "\n",
    "    # Iterate over files in the directory\n",
    "    for filename in os.listdir(directory):\n",
    "        file_path = os.path.join(directory, filename)\n",
    "        if os.path.isfile(file_path):\n",
    "            file_extension = pathlib.Path(filename).suffix.lower()\n",
    "            if file_extension in doc_extensions:\n",
    "                shutil.move(file_path, os.path.join(directory, 'Documents', filename))\n",
    "            elif file_extension in image_extensions:\n",
    "                shutil.move(file_path, os.path.join(directory, 'Images', filename))\n",
    "            elif file_extension in video_extensions:\n",
    "                shutil.move(file_path, os.path.join(directory, 'Videos', filename))\n",
    "            elif file_extension in music_extensions:\n",
    "                shutil.move(file_path, os.path.join(directory, 'Music', filename))\n",
    "            elif file_extension in archive_extensions:\n",
    "                shutil.move(file_path, os.path.join(directory, 'Archives', filename))\n",
    "            elif file_extension in executable_extensions:\n",
    "                shutil.move(file_path, os.path.join(directory, 'Executables', filename))\n",
    "\n",
    "# Get the directory from the user\n",
    "directory = input(\"Enter the directory path: \")\n",
    "\n",
    "# Organize files in the directory\n",
    "organize_files(directory)\n",
    "print(\"Files organized successfully!\")"
   ]
  },
  {
   "cell_type": "code",
   "execution_count": 5,
   "id": "3336518a",
   "metadata": {},
   "outputs": [
    {
     "ename": "SyntaxError",
     "evalue": "invalid syntax (<ipython-input-5-5266d49f89fe>, line 34)",
     "output_type": "error",
     "traceback": [
      "\u001b[1;36m  File \u001b[1;32m\"<ipython-input-5-5266d49f89fe>\"\u001b[1;36m, line \u001b[1;32m34\u001b[0m\n\u001b[1;33m    recovered_list_pickle =\u001b[0m\n\u001b[1;37m                           ^\u001b[0m\n\u001b[1;31mSyntaxError\u001b[0m\u001b[1;31m:\u001b[0m invalid syntax\n"
     ]
    }
   ],
   "source": [
    "import pickle \n",
    "import json\n",
    "\n",
    "# function to save a list to a file using pickle\n",
    "def save_list_with_pickle(my_list, filename):\n",
    "    with open(filename, 'wb') as file:\n",
    "        pickle.dump(my_list, file)\n",
    "    print(f\"List saved to {filename} using pickle.\")\n",
    "    \n",
    "#Function to read a list from a file using pickle\n",
    "def load_list_with_pickle(filename):\n",
    "    with open(filename, 'rb') as file:\n",
    "        return pickle.load(file)\n",
    "    \n",
    "#Function to save a list to a JSON file\n",
    "def save_list_with_json(my_list, filename):\n",
    "    with open(filename, 'w') as file:\n",
    "        json.dump(my_list, file)\n",
    "    print(f\"List saved to {filename} using JSON.\")\n",
    "    \n",
    "#Function to read a list from a JSON file\n",
    "def load_list_with_json(filename):\n",
    "    with open(filename, 'r') as file:\n",
    "        return json.load(file)\n",
    "    \n",
    "#Main Program\n",
    "if __name__ == \" __ main __\":\n",
    "    #Sample list\n",
    "    original_list = ['apple', 'banana', 'cherry', 'date']\n",
    "    \n",
    "    #Save and load using pickle\n",
    "    pickle_filename = 'list_pickle.pkl'\n",
    "    save_list_with_pickle(original_list, pickle_filename)\n",
    "    recovered_list_pickle =\n",
    "load_list_with_pickle(pickle_filename)\n",
    "    print(\"Recovered list from pickle:\", Recovered_list_pickle)\n",
    "    \n",
    "#Save and load using JSON\n",
    "json_filename = 'list_json.json'\n",
    "save_list_with_json(original_list, json_filename)\n",
    "recovered_list_json = load_list_with_json(json_filename)\n",
    "print(\"Recovered list fron JSON:\", recovered_list_json)"
   ]
  },
  {
   "cell_type": "code",
   "execution_count": 2,
   "id": "418cd59f",
   "metadata": {},
   "outputs": [
    {
     "ename": "SyntaxError",
     "evalue": "EOL while scanning string literal (<ipython-input-2-455968540f35>, line 11)",
     "output_type": "error",
     "traceback": [
      "\u001b[1;36m  File \u001b[1;32m\"<ipython-input-2-455968540f35>\"\u001b[1;36m, line \u001b[1;32m11\u001b[0m\n\u001b[1;33m    print(f\"read data is{readData}\\n its type is {type(readData)}\"\")\u001b[0m\n\u001b[1;37m                                                                    ^\u001b[0m\n\u001b[1;31mSyntaxError\u001b[0m\u001b[1;31m:\u001b[0m EOL while scanning string literal\n"
     ]
    }
   ],
   "source": [
    "list1 = [1,2,3,4]\n",
    "\n",
    "filepath = \"data.txt\"\n",
    "\n",
    "with open(filePath, \"w\") as fileHandle:\n",
    "    fileHandle.write(str(list1))\n",
    "    \n",
    "with open(filePath, \"r\") as fileHandle:\n",
    "    redData = fileHandle.read()\n",
    "    redData = fileHandle.read[1:len(readData)-1].replace(\"\",\"\").split(\",\")\n",
    "    print(f\"read data is{readData}\\n its type is {type(readData)}\"\")\n",
    "          \n",
    "          "
   ]
  },
  {
   "cell_type": "code",
   "execution_count": 4,
   "id": "131f0f8b",
   "metadata": {},
   "outputs": [
    {
     "name": "stdout",
     "output_type": "stream",
     "text": [
      "Hello From Closure\n"
     ]
    }
   ],
   "source": [
    "def outer_function(message):\n",
    "    #value of message is present here\n",
    "    def inner_function():\n",
    "        print(message)\n",
    "    # inner_function()        \n",
    "    return inner_function\n",
    "\n",
    "closure = outer_function(\"Hello From Closure\")\n",
    "\n",
    "closure()"
   ]
  },
  {
   "cell_type": "code",
   "execution_count": 17,
   "id": "b082798b",
   "metadata": {},
   "outputs": [
    {
     "ename": "SyntaxError",
     "evalue": "invalid syntax (<ipython-input-17-1dda0e928245>, line 10)",
     "output_type": "error",
     "traceback": [
      "\u001b[1;36m  File \u001b[1;32m\"<ipython-input-17-1dda0e928245>\"\u001b[1;36m, line \u001b[1;32m10\u001b[0m\n\u001b[1;33m    def wrapper(func,*args, *kwargs): # generalize\u001b[0m\n\u001b[1;37m                            ^\u001b[0m\n\u001b[1;31mSyntaxError\u001b[0m\u001b[1;31m:\u001b[0m invalid syntax\n"
     ]
    }
   ],
   "source": [
    "# write a function to count n and evaluate a = n* 10 for all values from 0 to n\n",
    "\n",
    "def count(n):\n",
    "    for i in range(0,n):\n",
    "        a = n * 10\n",
    "        \n",
    "ns = [100000,234234,34345,345,344,345]\n",
    "n = 1000000 \n",
    "\n",
    "def wrapper(func,*args, *kwargs): # generalize\n",
    "    def wrapped(*args, *kwargs):\n",
    "        # code to evaluate run time of function call count(n)\n",
    "        start_time = time.time() * 1000000\n",
    "        #print(start_time)\n",
    "        func(*args,**kwargs) #timing this function call/execution\n",
    "        end_time = time.time() * 1000000\n",
    "        #print(end_time)\n",
    "\n",
    "        print(f\"\\n n = {n}Time to execute is {end_time - start_time}micro seconds\\n\")\n",
    " \n",
    "    #wrapped(*args, *kwargs)\n",
    "    return wrapped\n",
    "\n",
    "@wrapper #decorator\n",
    "def count(n):\n",
    "    for i in range(0,n)\n",
    "       a = n * 10\n",
    "        \n",
    "count(n)\n",
    "@wrapper\n",
    "def random():\n",
    "    pass\n",
    "\n",
    "random()\n",
    "        \n",
    "#wrapper_function = wrapper(count,n)\n",
    "#wrapped_count = wrapper(count,*args, **kwargs)\n",
    "#wrapper_count(n)\n",
    "\n",
    "\n"
   ]
  }
 ],
 "metadata": {
  "kernelspec": {
   "display_name": "Python 3",
   "language": "python",
   "name": "python3"
  },
  "language_info": {
   "codemirror_mode": {
    "name": "ipython",
    "version": 3
   },
   "file_extension": ".py",
   "mimetype": "text/x-python",
   "name": "python",
   "nbconvert_exporter": "python",
   "pygments_lexer": "ipython3",
   "version": "3.8.8"
  }
 },
 "nbformat": 4,
 "nbformat_minor": 5
}
