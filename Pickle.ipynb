{
 "cells": [
  {
   "cell_type": "code",
   "execution_count": 1,
   "id": "fa0a5e4d",
   "metadata": {},
   "outputs": [
    {
     "name": "stdout",
     "output_type": "stream",
     "text": [
      "Enter the Number6783\n",
      "Original List: 6783\n",
      "Recovered List: 6783\n"
     ]
    }
   ],
   "source": [
    "import pickle\n",
    "\n",
    "\n",
    "def save_list_to_file(my_list, filename):\n",
    "    with open(filename, 'wb') as file:  \n",
    "        pickle.dump(my_list, file)  \n",
    "\n",
    "\n",
    "def read_list_from_file(filename):\n",
    "    with open(filename, 'rb') as file:  \n",
    "        return pickle.load(file)  \n",
    "\n",
    "\n",
    "my_list = input(\"Enter the Number\")\n",
    "filename = 'my_list.pkl'  \n",
    "\n",
    "\n",
    "save_list_to_file(my_list, filename)\n",
    "\n",
    "\n",
    "recovered_list = read_list_from_file(filename)\n",
    "\n",
    "\n",
    "print(\"Original List:\", my_list)\n",
    "print(\"Recovered List:\", recovered_list)"
   ]
  },
  {
   "cell_type": "code",
   "execution_count": 2,
   "id": "bfb504b7",
   "metadata": {},
   "outputs": [
    {
     "data": {
      "text/plain": [
       "[1, 2, 3, 4]"
      ]
     },
     "execution_count": 2,
     "metadata": {},
     "output_type": "execute_result"
    }
   ],
   "source": [
    "[1,2,3,4]"
   ]
  },
  {
   "cell_type": "code",
   "execution_count": 3,
   "id": "2044e334",
   "metadata": {},
   "outputs": [
    {
     "ename": "SyntaxError",
     "evalue": "invalid syntax (<ipython-input-3-7c1e81e9cdbb>, line 4)",
     "output_type": "error",
     "traceback": [
      "\u001b[1;36m  File \u001b[1;32m\"<ipython-input-3-7c1e81e9cdbb>\"\u001b[1;36m, line \u001b[1;32m4\u001b[0m\n\u001b[1;33m    file_name = f\"{file_name}.{url.split(\".\")[-1].lower()}\"\u001b[0m\n\u001b[1;37m                                           ^\u001b[0m\n\u001b[1;31mSyntaxError\u001b[0m\u001b[1;31m:\u001b[0m invalid syntax\n"
     ]
    }
   ],
   "source": [
    "import requests\n",
    "\n",
    "def download_file(url , file_name):\n",
    "    file_name = f\"{file_name}.{url.split(\".\")[-1].lower()}\"\n",
    "    response = requests.get(url)\n",
    "\n",
    "\n",
    "    if response.status_code == 200:\n",
    "        with open(file_name , 'wb' ) as file:\n",
    "            file.write(response.content)\n",
    "        print(f\"File '{file_name}' download successfully .\")\n",
    "    else:\n",
    "        print(f\"Failed to download file. Status code: {response.status_code}\")\n",
    "\n",
    "\n",
    "\n",
    "if __name__ == \"__main__\":\n",
    "    url = 'https://www.python.org/static/img/psf-logo.png'\n",
    "    file_name = 'file'\n",
    "    download_file(url , file_name)"
   ]
  },
  {
   "cell_type": "code",
   "execution_count": 4,
   "id": "aab7dccd",
   "metadata": {},
   "outputs": [
    {
     "ename": "ModuleNotFoundError",
     "evalue": "No module named 'file_downloader'",
     "output_type": "error",
     "traceback": [
      "\u001b[1;31m---------------------------------------------------------------------------\u001b[0m",
      "\u001b[1;31mModuleNotFoundError\u001b[0m                       Traceback (most recent call last)",
      "\u001b[1;32m<ipython-input-4-18cb7e6b54bf>\u001b[0m in \u001b[0;36m<module>\u001b[1;34m\u001b[0m\n\u001b[1;32m----> 1\u001b[1;33m \u001b[1;32mfrom\u001b[0m \u001b[0mfile_downloader\u001b[0m \u001b[1;32mimport\u001b[0m \u001b[0mdownload_file\u001b[0m \u001b[1;32mas\u001b[0m \u001b[0mdwld\u001b[0m\u001b[1;33m\u001b[0m\u001b[1;33m\u001b[0m\u001b[0m\n\u001b[0m\u001b[0;32m      2\u001b[0m \u001b[1;32mimport\u001b[0m \u001b[0mtkinter\u001b[0m \u001b[1;32mas\u001b[0m \u001b[0mtk\u001b[0m\u001b[1;33m\u001b[0m\u001b[1;33m\u001b[0m\u001b[0m\n\u001b[0;32m      3\u001b[0m \u001b[1;33m\u001b[0m\u001b[0m\n\u001b[0;32m      4\u001b[0m \u001b[0mroot\u001b[0m \u001b[1;33m=\u001b[0m \u001b[0mtk\u001b[0m\u001b[1;33m.\u001b[0m\u001b[0mTk\u001b[0m\u001b[1;33m(\u001b[0m\u001b[1;33m)\u001b[0m\u001b[1;33m\u001b[0m\u001b[1;33m\u001b[0m\u001b[0m\n\u001b[0;32m      5\u001b[0m \u001b[0mroot\u001b[0m\u001b[1;33m.\u001b[0m\u001b[0mtitle\u001b[0m\u001b[1;33m(\u001b[0m\u001b[1;34m\"File Downloader\"\u001b[0m\u001b[1;33m)\u001b[0m\u001b[1;33m\u001b[0m\u001b[1;33m\u001b[0m\u001b[0m\n",
      "\u001b[1;31mModuleNotFoundError\u001b[0m: No module named 'file_downloader'"
     ]
    }
   ],
   "source": [
    "from file_downloader import download_file as dwld\n",
    "import tkinter as tk \n",
    "\n",
    "root = tk.Tk()\n",
    "root.title(\"File Downloader\")\n",
    "root.geometry(\"500x200\")\n",
    "\n",
    "def buttonCall():\n",
    "    url = urlInput.get()\n",
    "    fname = filenameInput.get()\n",
    "    print(f\"Url:{url}\\nFilename:{fname}\")\n",
    "    dwld(url , fname)\n",
    "\n",
    "    pass\n",
    "\n",
    "\n",
    "\n",
    "#label \n",
    "urlLabel = tk.Label(root, text=\"URL\")\n",
    "# urlLabel.pack(padx=10, pady=10)\n",
    "urlLabel.grid(row=0,column=0)\n",
    "\n",
    "\n",
    "#url entry \n",
    "urlInput = tk.Entry(root)\n",
    "# urlInput.pack(padx=10,pady=10)\n",
    "urlInput.grid(row=0,column=1)\n",
    "\n",
    "#label entry file name \n",
    "filenameLabel = tk.Label(root,text=\"FileName\")\n",
    "filenameLabel.grid(row=1 ,column = 0)\n",
    "\n",
    "#filename entry\n",
    "filenameInput = tk.Entry(root)\n",
    "filenameInput.grid(row=1,column=1)\n",
    "#button\n",
    "downloadButton = tk.Button(root , text = \"Download\", command=buttonCall)\n",
    "downloadButton.grid(row =2 , column = 1)\n",
    "\n",
    "\n",
    "\n",
    "root.mainloop()"
   ]
  }
 ],
 "metadata": {
  "kernelspec": {
   "display_name": "Python 3",
   "language": "python",
   "name": "python3"
  },
  "language_info": {
   "codemirror_mode": {
    "name": "ipython",
    "version": 3
   },
   "file_extension": ".py",
   "mimetype": "text/x-python",
   "name": "python",
   "nbconvert_exporter": "python",
   "pygments_lexer": "ipython3",
   "version": "3.8.8"
  }
 },
 "nbformat": 4,
 "nbformat_minor": 5
}
